{
  "cells": [
    {
      "cell_type": "markdown",
      "metadata": {
        "id": "NS-IfQKia5XU"
      },
      "source": [
        "# **Real-Estate deals Data Analysis**\n",
        "By Omer Tamary, April 2022\n",
        "\n",
        "## Introduction\n",
        "Objective : explore and analyze several neighborhoods in Tel Aviv which have a growth potential\n",
        "\n",
        "We can break down this objective into four main components:\n",
        "1. Data scraping from https://www.ad.co.il/nadlanprice website to create an extensive dataset of real-estate deals from the last 20 years using scrapy python library. \n",
        "2. Cleaning the dataset and organize it using \"cleadnData.py\" file\n",
        "3. Conduct data analysis using numpy, matplotlib, seborn and pandas to extract relevant conclusions.\n",
        "4. Implement machine learning tools with scikit python library."
      ]
    },
    {
      "cell_type": "markdown",
      "metadata": {
        "id": "YerPaHDZAoM4"
      },
      "source": [
        "#Preliminaries:\n",
        "In this project we'll use the following python packages:"
      ]
    },
    {
      "cell_type": "code",
      "execution_count": 360,
      "metadata": {
        "id": "rkVNBeeYc4Qv"
      },
      "outputs": [],
      "source": [
        "# Importing libraries we'll use\n",
        "import datetime\n",
        "import numpy as np\n",
        "import pandas as pd\n",
        "import matplotlib.pyplot as plt\n",
        "import seaborn as sns\n",
        "from sklearn import datasets\n",
        "from sklearn import linear_model\n",
        "from sklearn.preprocessing import StandardScaler\n",
        "from sklearn import ensemble\n",
        "from sklearn.model_selection import KFold, cross_validate,train_test_split,cross_val_score\n",
        "%matplotlib inline\n",
        "\n",
        "# set numerical formmating\n",
        "pd.set_option('float_format', '{:.2f}'.format)\n",
        "pd.set_option(\"display.precision\", 3)"
      ]
    },
    {
      "cell_type": "markdown",
      "metadata": {
        "id": "CDlhafkqAtNL"
      },
      "source": [
        "#Phase 1\n",
        "Using scrpy python library I was able to scrap raw dataset from https://www.ad.co.il/nadlanprice , all relevant code can be found in \"nadlanScraper\" folder.\n",
        "\n",
        "Below is a sample from the raw dataset:"
      ]
    },
    {
      "cell_type": "code",
      "execution_count": 361,
      "metadata": {
        "colab": {
          "base_uri": "https://localhost:8080/",
          "height": 363
        },
        "id": "OQVrIMN8Du8b",
        "outputId": "68e5253c-9ae9-4c34-f5c6-098022f40e6b"
      },
      "outputs": [
        {
          "output_type": "execute_result",
          "data": {
            "text/plain": [
              "              address    area buildYear       date floor numOfRooms  \\\n",
              "0           אחיעזר 10  התקווה      1950  11/1/2015     3        1.5   \n",
              "1            נטעים 14  התקווה      1970  06/1/2015     2          2   \n",
              "2            המכבש 10  התקווה      1950  04/1/2015     1        2.5   \n",
              "3             בועז 25  התקווה      1950  01/1/2015     1          2   \n",
              "4               רזי 3  התקווה      2012  01/1/2015     1          4   \n",
              "5        כוכבי יצחק 3   שפירא      1975  22/7/2014  None          5   \n",
              "6          לוינסקי 94   שפירא      2011  21/7/2014  None          2   \n",
              "7  שדרות חכמי ישראל 7   שפירא      1980  15/7/2014  None          3   \n",
              "8  שדרות חכמי ישראל 7   שפירא      None  15/7/2014  None       None   \n",
              "9         לוינסקי 140   שפירא      1960  21/1/2021     2          3   \n",
              "\n",
              "       price pricePerMeter  size  \n",
              "0  1,290,000        18,125    32  \n",
              "1  1,450,000        14,166    60  \n",
              "2    950,000         7,894    57  \n",
              "3  1,500,000        10,526    57  \n",
              "4  1,500,000        19,843    64  \n",
              "5    970,000        17,300   100  \n",
              "6  1,025,000        22,777    63  \n",
              "7    399,996        12,666    75  \n",
              "8    401,602          None  None  \n",
              "9  1,450,000        28,431    51  "
            ],
            "text/html": [
              "\n",
              "  <div id=\"df-27f0513a-f717-496c-8404-f37cf8c0235e\">\n",
              "    <div class=\"colab-df-container\">\n",
              "      <div>\n",
              "<style scoped>\n",
              "    .dataframe tbody tr th:only-of-type {\n",
              "        vertical-align: middle;\n",
              "    }\n",
              "\n",
              "    .dataframe tbody tr th {\n",
              "        vertical-align: top;\n",
              "    }\n",
              "\n",
              "    .dataframe thead th {\n",
              "        text-align: right;\n",
              "    }\n",
              "</style>\n",
              "<table border=\"1\" class=\"dataframe\">\n",
              "  <thead>\n",
              "    <tr style=\"text-align: right;\">\n",
              "      <th></th>\n",
              "      <th>address</th>\n",
              "      <th>area</th>\n",
              "      <th>buildYear</th>\n",
              "      <th>date</th>\n",
              "      <th>floor</th>\n",
              "      <th>numOfRooms</th>\n",
              "      <th>price</th>\n",
              "      <th>pricePerMeter</th>\n",
              "      <th>size</th>\n",
              "    </tr>\n",
              "  </thead>\n",
              "  <tbody>\n",
              "    <tr>\n",
              "      <th>0</th>\n",
              "      <td>אחיעזר 10</td>\n",
              "      <td>התקווה</td>\n",
              "      <td>1950</td>\n",
              "      <td>11/1/2015</td>\n",
              "      <td>3</td>\n",
              "      <td>1.5</td>\n",
              "      <td>1,290,000</td>\n",
              "      <td>18,125</td>\n",
              "      <td>32</td>\n",
              "    </tr>\n",
              "    <tr>\n",
              "      <th>1</th>\n",
              "      <td>נטעים 14</td>\n",
              "      <td>התקווה</td>\n",
              "      <td>1970</td>\n",
              "      <td>06/1/2015</td>\n",
              "      <td>2</td>\n",
              "      <td>2</td>\n",
              "      <td>1,450,000</td>\n",
              "      <td>14,166</td>\n",
              "      <td>60</td>\n",
              "    </tr>\n",
              "    <tr>\n",
              "      <th>2</th>\n",
              "      <td>המכבש 10</td>\n",
              "      <td>התקווה</td>\n",
              "      <td>1950</td>\n",
              "      <td>04/1/2015</td>\n",
              "      <td>1</td>\n",
              "      <td>2.5</td>\n",
              "      <td>950,000</td>\n",
              "      <td>7,894</td>\n",
              "      <td>57</td>\n",
              "    </tr>\n",
              "    <tr>\n",
              "      <th>3</th>\n",
              "      <td>בועז 25</td>\n",
              "      <td>התקווה</td>\n",
              "      <td>1950</td>\n",
              "      <td>01/1/2015</td>\n",
              "      <td>1</td>\n",
              "      <td>2</td>\n",
              "      <td>1,500,000</td>\n",
              "      <td>10,526</td>\n",
              "      <td>57</td>\n",
              "    </tr>\n",
              "    <tr>\n",
              "      <th>4</th>\n",
              "      <td>רזי 3</td>\n",
              "      <td>התקווה</td>\n",
              "      <td>2012</td>\n",
              "      <td>01/1/2015</td>\n",
              "      <td>1</td>\n",
              "      <td>4</td>\n",
              "      <td>1,500,000</td>\n",
              "      <td>19,843</td>\n",
              "      <td>64</td>\n",
              "    </tr>\n",
              "    <tr>\n",
              "      <th>5</th>\n",
              "      <td>כוכבי יצחק 3</td>\n",
              "      <td>שפירא</td>\n",
              "      <td>1975</td>\n",
              "      <td>22/7/2014</td>\n",
              "      <td>None</td>\n",
              "      <td>5</td>\n",
              "      <td>970,000</td>\n",
              "      <td>17,300</td>\n",
              "      <td>100</td>\n",
              "    </tr>\n",
              "    <tr>\n",
              "      <th>6</th>\n",
              "      <td>לוינסקי 94</td>\n",
              "      <td>שפירא</td>\n",
              "      <td>2011</td>\n",
              "      <td>21/7/2014</td>\n",
              "      <td>None</td>\n",
              "      <td>2</td>\n",
              "      <td>1,025,000</td>\n",
              "      <td>22,777</td>\n",
              "      <td>63</td>\n",
              "    </tr>\n",
              "    <tr>\n",
              "      <th>7</th>\n",
              "      <td>שדרות חכמי ישראל 7</td>\n",
              "      <td>שפירא</td>\n",
              "      <td>1980</td>\n",
              "      <td>15/7/2014</td>\n",
              "      <td>None</td>\n",
              "      <td>3</td>\n",
              "      <td>399,996</td>\n",
              "      <td>12,666</td>\n",
              "      <td>75</td>\n",
              "    </tr>\n",
              "    <tr>\n",
              "      <th>8</th>\n",
              "      <td>שדרות חכמי ישראל 7</td>\n",
              "      <td>שפירא</td>\n",
              "      <td>None</td>\n",
              "      <td>15/7/2014</td>\n",
              "      <td>None</td>\n",
              "      <td>None</td>\n",
              "      <td>401,602</td>\n",
              "      <td>None</td>\n",
              "      <td>None</td>\n",
              "    </tr>\n",
              "    <tr>\n",
              "      <th>9</th>\n",
              "      <td>לוינסקי 140</td>\n",
              "      <td>שפירא</td>\n",
              "      <td>1960</td>\n",
              "      <td>21/1/2021</td>\n",
              "      <td>2</td>\n",
              "      <td>3</td>\n",
              "      <td>1,450,000</td>\n",
              "      <td>28,431</td>\n",
              "      <td>51</td>\n",
              "    </tr>\n",
              "  </tbody>\n",
              "</table>\n",
              "</div>\n",
              "      <button class=\"colab-df-convert\" onclick=\"convertToInteractive('df-27f0513a-f717-496c-8404-f37cf8c0235e')\"\n",
              "              title=\"Convert this dataframe to an interactive table.\"\n",
              "              style=\"display:none;\">\n",
              "        \n",
              "  <svg xmlns=\"http://www.w3.org/2000/svg\" height=\"24px\"viewBox=\"0 0 24 24\"\n",
              "       width=\"24px\">\n",
              "    <path d=\"M0 0h24v24H0V0z\" fill=\"none\"/>\n",
              "    <path d=\"M18.56 5.44l.94 2.06.94-2.06 2.06-.94-2.06-.94-.94-2.06-.94 2.06-2.06.94zm-11 1L8.5 8.5l.94-2.06 2.06-.94-2.06-.94L8.5 2.5l-.94 2.06-2.06.94zm10 10l.94 2.06.94-2.06 2.06-.94-2.06-.94-.94-2.06-.94 2.06-2.06.94z\"/><path d=\"M17.41 7.96l-1.37-1.37c-.4-.4-.92-.59-1.43-.59-.52 0-1.04.2-1.43.59L10.3 9.45l-7.72 7.72c-.78.78-.78 2.05 0 2.83L4 21.41c.39.39.9.59 1.41.59.51 0 1.02-.2 1.41-.59l7.78-7.78 2.81-2.81c.8-.78.8-2.07 0-2.86zM5.41 20L4 18.59l7.72-7.72 1.47 1.35L5.41 20z\"/>\n",
              "  </svg>\n",
              "      </button>\n",
              "      \n",
              "  <style>\n",
              "    .colab-df-container {\n",
              "      display:flex;\n",
              "      flex-wrap:wrap;\n",
              "      gap: 12px;\n",
              "    }\n",
              "\n",
              "    .colab-df-convert {\n",
              "      background-color: #E8F0FE;\n",
              "      border: none;\n",
              "      border-radius: 50%;\n",
              "      cursor: pointer;\n",
              "      display: none;\n",
              "      fill: #1967D2;\n",
              "      height: 32px;\n",
              "      padding: 0 0 0 0;\n",
              "      width: 32px;\n",
              "    }\n",
              "\n",
              "    .colab-df-convert:hover {\n",
              "      background-color: #E2EBFA;\n",
              "      box-shadow: 0px 1px 2px rgba(60, 64, 67, 0.3), 0px 1px 3px 1px rgba(60, 64, 67, 0.15);\n",
              "      fill: #174EA6;\n",
              "    }\n",
              "\n",
              "    [theme=dark] .colab-df-convert {\n",
              "      background-color: #3B4455;\n",
              "      fill: #D2E3FC;\n",
              "    }\n",
              "\n",
              "    [theme=dark] .colab-df-convert:hover {\n",
              "      background-color: #434B5C;\n",
              "      box-shadow: 0px 1px 3px 1px rgba(0, 0, 0, 0.15);\n",
              "      filter: drop-shadow(0px 1px 2px rgba(0, 0, 0, 0.3));\n",
              "      fill: #FFFFFF;\n",
              "    }\n",
              "  </style>\n",
              "\n",
              "      <script>\n",
              "        const buttonEl =\n",
              "          document.querySelector('#df-27f0513a-f717-496c-8404-f37cf8c0235e button.colab-df-convert');\n",
              "        buttonEl.style.display =\n",
              "          google.colab.kernel.accessAllowed ? 'block' : 'none';\n",
              "\n",
              "        async function convertToInteractive(key) {\n",
              "          const element = document.querySelector('#df-27f0513a-f717-496c-8404-f37cf8c0235e');\n",
              "          const dataTable =\n",
              "            await google.colab.kernel.invokeFunction('convertToInteractive',\n",
              "                                                     [key], {});\n",
              "          if (!dataTable) return;\n",
              "\n",
              "          const docLinkHtml = 'Like what you see? Visit the ' +\n",
              "            '<a target=\"_blank\" href=https://colab.research.google.com/notebooks/data_table.ipynb>data table notebook</a>'\n",
              "            + ' to learn more about interactive tables.';\n",
              "          element.innerHTML = '';\n",
              "          dataTable['output_type'] = 'display_data';\n",
              "          await google.colab.output.renderOutput(dataTable, element);\n",
              "          const docLink = document.createElement('div');\n",
              "          docLink.innerHTML = docLinkHtml;\n",
              "          element.appendChild(docLink);\n",
              "        }\n",
              "      </script>\n",
              "    </div>\n",
              "  </div>\n",
              "  "
            ]
          },
          "metadata": {},
          "execution_count": 361
        }
      ],
      "source": [
        "data_raw = pd.read_csv(\"dataset_raw.csv\")\n",
        "data_raw.head(10)"
      ]
    },
    {
      "cell_type": "code",
      "execution_count": 362,
      "metadata": {
        "colab": {
          "base_uri": "https://localhost:8080/"
        },
        "id": "r8qQKU84CDmO",
        "outputId": "69574075-892c-4e32-df68-b26a2c1374ef"
      },
      "outputs": [
        {
          "output_type": "stream",
          "name": "stdout",
          "text": [
            "number of real-estate deals:  4997\n"
          ]
        }
      ],
      "source": [
        "print(\"number of real-estate deals: \",data_raw.shape[0])"
      ]
    },
    {
      "cell_type": "markdown",
      "metadata": {
        "id": "Erd-TBqMCO5B"
      },
      "source": [
        "#Phase 2\n",
        "The main goal of this phase is to clean and organize the dataset using the \"cleanData\" file. <br> Here I will show the organized dataset and some general details about it:"
      ]
    },
    {
      "cell_type": "code",
      "execution_count": 363,
      "metadata": {
        "colab": {
          "base_uri": "https://localhost:8080/",
          "height": 206
        },
        "id": "dASryLZ2dKgi",
        "outputId": "6918550c-b668-4189-df1e-f39898924c4f"
      },
      "outputs": [
        {
          "output_type": "execute_result",
          "data": {
            "text/plain": [
              "     address     area  buildYear       date  floor  numOfRooms    price  \\\n",
              "0  אחיעזר 10  Hatikva       1950  11/1/2015   3.00        1.50  1290000   \n",
              "1   נטעים 14  Hatikva       1970  06/1/2015   2.00        2.00  1450000   \n",
              "2   המכבש 10  Hatikva       1950  04/1/2015   1.00        2.50   950000   \n",
              "3    בועז 25  Hatikva       1950  01/1/2015   1.00        2.00  1500000   \n",
              "4      רזי 3  Hatikva       2012  01/1/2015   1.00        4.00  1500000   \n",
              "\n",
              "   pricePerMeter  size  \n",
              "0       18125.00    32  \n",
              "1       14166.00    60  \n",
              "2        7894.00    57  \n",
              "3       10526.00    57  \n",
              "4       19843.00    64  "
            ],
            "text/html": [
              "\n",
              "  <div id=\"df-e6abc9cf-c57a-4248-87a6-fdd16e42d2f1\">\n",
              "    <div class=\"colab-df-container\">\n",
              "      <div>\n",
              "<style scoped>\n",
              "    .dataframe tbody tr th:only-of-type {\n",
              "        vertical-align: middle;\n",
              "    }\n",
              "\n",
              "    .dataframe tbody tr th {\n",
              "        vertical-align: top;\n",
              "    }\n",
              "\n",
              "    .dataframe thead th {\n",
              "        text-align: right;\n",
              "    }\n",
              "</style>\n",
              "<table border=\"1\" class=\"dataframe\">\n",
              "  <thead>\n",
              "    <tr style=\"text-align: right;\">\n",
              "      <th></th>\n",
              "      <th>address</th>\n",
              "      <th>area</th>\n",
              "      <th>buildYear</th>\n",
              "      <th>date</th>\n",
              "      <th>floor</th>\n",
              "      <th>numOfRooms</th>\n",
              "      <th>price</th>\n",
              "      <th>pricePerMeter</th>\n",
              "      <th>size</th>\n",
              "    </tr>\n",
              "  </thead>\n",
              "  <tbody>\n",
              "    <tr>\n",
              "      <th>0</th>\n",
              "      <td>אחיעזר 10</td>\n",
              "      <td>Hatikva</td>\n",
              "      <td>1950</td>\n",
              "      <td>11/1/2015</td>\n",
              "      <td>3.00</td>\n",
              "      <td>1.50</td>\n",
              "      <td>1290000</td>\n",
              "      <td>18125.00</td>\n",
              "      <td>32</td>\n",
              "    </tr>\n",
              "    <tr>\n",
              "      <th>1</th>\n",
              "      <td>נטעים 14</td>\n",
              "      <td>Hatikva</td>\n",
              "      <td>1970</td>\n",
              "      <td>06/1/2015</td>\n",
              "      <td>2.00</td>\n",
              "      <td>2.00</td>\n",
              "      <td>1450000</td>\n",
              "      <td>14166.00</td>\n",
              "      <td>60</td>\n",
              "    </tr>\n",
              "    <tr>\n",
              "      <th>2</th>\n",
              "      <td>המכבש 10</td>\n",
              "      <td>Hatikva</td>\n",
              "      <td>1950</td>\n",
              "      <td>04/1/2015</td>\n",
              "      <td>1.00</td>\n",
              "      <td>2.50</td>\n",
              "      <td>950000</td>\n",
              "      <td>7894.00</td>\n",
              "      <td>57</td>\n",
              "    </tr>\n",
              "    <tr>\n",
              "      <th>3</th>\n",
              "      <td>בועז 25</td>\n",
              "      <td>Hatikva</td>\n",
              "      <td>1950</td>\n",
              "      <td>01/1/2015</td>\n",
              "      <td>1.00</td>\n",
              "      <td>2.00</td>\n",
              "      <td>1500000</td>\n",
              "      <td>10526.00</td>\n",
              "      <td>57</td>\n",
              "    </tr>\n",
              "    <tr>\n",
              "      <th>4</th>\n",
              "      <td>רזי 3</td>\n",
              "      <td>Hatikva</td>\n",
              "      <td>2012</td>\n",
              "      <td>01/1/2015</td>\n",
              "      <td>1.00</td>\n",
              "      <td>4.00</td>\n",
              "      <td>1500000</td>\n",
              "      <td>19843.00</td>\n",
              "      <td>64</td>\n",
              "    </tr>\n",
              "  </tbody>\n",
              "</table>\n",
              "</div>\n",
              "      <button class=\"colab-df-convert\" onclick=\"convertToInteractive('df-e6abc9cf-c57a-4248-87a6-fdd16e42d2f1')\"\n",
              "              title=\"Convert this dataframe to an interactive table.\"\n",
              "              style=\"display:none;\">\n",
              "        \n",
              "  <svg xmlns=\"http://www.w3.org/2000/svg\" height=\"24px\"viewBox=\"0 0 24 24\"\n",
              "       width=\"24px\">\n",
              "    <path d=\"M0 0h24v24H0V0z\" fill=\"none\"/>\n",
              "    <path d=\"M18.56 5.44l.94 2.06.94-2.06 2.06-.94-2.06-.94-.94-2.06-.94 2.06-2.06.94zm-11 1L8.5 8.5l.94-2.06 2.06-.94-2.06-.94L8.5 2.5l-.94 2.06-2.06.94zm10 10l.94 2.06.94-2.06 2.06-.94-2.06-.94-.94-2.06-.94 2.06-2.06.94z\"/><path d=\"M17.41 7.96l-1.37-1.37c-.4-.4-.92-.59-1.43-.59-.52 0-1.04.2-1.43.59L10.3 9.45l-7.72 7.72c-.78.78-.78 2.05 0 2.83L4 21.41c.39.39.9.59 1.41.59.51 0 1.02-.2 1.41-.59l7.78-7.78 2.81-2.81c.8-.78.8-2.07 0-2.86zM5.41 20L4 18.59l7.72-7.72 1.47 1.35L5.41 20z\"/>\n",
              "  </svg>\n",
              "      </button>\n",
              "      \n",
              "  <style>\n",
              "    .colab-df-container {\n",
              "      display:flex;\n",
              "      flex-wrap:wrap;\n",
              "      gap: 12px;\n",
              "    }\n",
              "\n",
              "    .colab-df-convert {\n",
              "      background-color: #E8F0FE;\n",
              "      border: none;\n",
              "      border-radius: 50%;\n",
              "      cursor: pointer;\n",
              "      display: none;\n",
              "      fill: #1967D2;\n",
              "      height: 32px;\n",
              "      padding: 0 0 0 0;\n",
              "      width: 32px;\n",
              "    }\n",
              "\n",
              "    .colab-df-convert:hover {\n",
              "      background-color: #E2EBFA;\n",
              "      box-shadow: 0px 1px 2px rgba(60, 64, 67, 0.3), 0px 1px 3px 1px rgba(60, 64, 67, 0.15);\n",
              "      fill: #174EA6;\n",
              "    }\n",
              "\n",
              "    [theme=dark] .colab-df-convert {\n",
              "      background-color: #3B4455;\n",
              "      fill: #D2E3FC;\n",
              "    }\n",
              "\n",
              "    [theme=dark] .colab-df-convert:hover {\n",
              "      background-color: #434B5C;\n",
              "      box-shadow: 0px 1px 3px 1px rgba(0, 0, 0, 0.15);\n",
              "      filter: drop-shadow(0px 1px 2px rgba(0, 0, 0, 0.3));\n",
              "      fill: #FFFFFF;\n",
              "    }\n",
              "  </style>\n",
              "\n",
              "      <script>\n",
              "        const buttonEl =\n",
              "          document.querySelector('#df-e6abc9cf-c57a-4248-87a6-fdd16e42d2f1 button.colab-df-convert');\n",
              "        buttonEl.style.display =\n",
              "          google.colab.kernel.accessAllowed ? 'block' : 'none';\n",
              "\n",
              "        async function convertToInteractive(key) {\n",
              "          const element = document.querySelector('#df-e6abc9cf-c57a-4248-87a6-fdd16e42d2f1');\n",
              "          const dataTable =\n",
              "            await google.colab.kernel.invokeFunction('convertToInteractive',\n",
              "                                                     [key], {});\n",
              "          if (!dataTable) return;\n",
              "\n",
              "          const docLinkHtml = 'Like what you see? Visit the ' +\n",
              "            '<a target=\"_blank\" href=https://colab.research.google.com/notebooks/data_table.ipynb>data table notebook</a>'\n",
              "            + ' to learn more about interactive tables.';\n",
              "          element.innerHTML = '';\n",
              "          dataTable['output_type'] = 'display_data';\n",
              "          await google.colab.output.renderOutput(dataTable, element);\n",
              "          const docLink = document.createElement('div');\n",
              "          docLink.innerHTML = docLinkHtml;\n",
              "          element.appendChild(docLink);\n",
              "        }\n",
              "      </script>\n",
              "    </div>\n",
              "  </div>\n",
              "  "
            ]
          },
          "metadata": {},
          "execution_count": 363
        }
      ],
      "source": [
        "data = pd.read_csv(\"dataset_ready.csv\")\n",
        "data.head(5)"
      ]
    },
    {
      "cell_type": "markdown",
      "metadata": {
        "id": "wXbTPNy4ELH_"
      },
      "source": [
        "General details:"
      ]
    },
    {
      "cell_type": "code",
      "execution_count": 364,
      "metadata": {
        "colab": {
          "base_uri": "https://localhost:8080/",
          "height": 300
        },
        "id": "YJYb4yQhgKNa",
        "outputId": "5bad365b-9634-4273-a40b-2e27ed703972"
      },
      "outputs": [
        {
          "output_type": "execute_result",
          "data": {
            "text/plain": [
              "       buildYear   floor  numOfRooms       price  pricePerMeter    size\n",
              "count    3655.00 2990.00     3655.00     3655.00        3595.00 3655.00\n",
              "mean     1979.29    4.16        3.16   807494.56       12432.15   72.34\n",
              "std        25.71    3.44        1.04   674097.97       12106.73   30.52\n",
              "min      1901.00    1.00        1.00    10000.00         102.00    1.00\n",
              "25%      1960.00    2.00        2.50   415000.00        6563.50   54.00\n",
              "50%      1978.00    3.00        3.00   608902.00        8765.00   70.00\n",
              "75%      2002.00    6.00        4.00  1068198.00       15985.00   94.00\n",
              "max      2022.00   29.00        8.00 12650602.00      148830.00  238.00"
            ],
            "text/html": [
              "\n",
              "  <div id=\"df-50f914c9-595a-4577-9929-adb836142f9f\">\n",
              "    <div class=\"colab-df-container\">\n",
              "      <div>\n",
              "<style scoped>\n",
              "    .dataframe tbody tr th:only-of-type {\n",
              "        vertical-align: middle;\n",
              "    }\n",
              "\n",
              "    .dataframe tbody tr th {\n",
              "        vertical-align: top;\n",
              "    }\n",
              "\n",
              "    .dataframe thead th {\n",
              "        text-align: right;\n",
              "    }\n",
              "</style>\n",
              "<table border=\"1\" class=\"dataframe\">\n",
              "  <thead>\n",
              "    <tr style=\"text-align: right;\">\n",
              "      <th></th>\n",
              "      <th>buildYear</th>\n",
              "      <th>floor</th>\n",
              "      <th>numOfRooms</th>\n",
              "      <th>price</th>\n",
              "      <th>pricePerMeter</th>\n",
              "      <th>size</th>\n",
              "    </tr>\n",
              "  </thead>\n",
              "  <tbody>\n",
              "    <tr>\n",
              "      <th>count</th>\n",
              "      <td>3655.00</td>\n",
              "      <td>2990.00</td>\n",
              "      <td>3655.00</td>\n",
              "      <td>3655.00</td>\n",
              "      <td>3595.00</td>\n",
              "      <td>3655.00</td>\n",
              "    </tr>\n",
              "    <tr>\n",
              "      <th>mean</th>\n",
              "      <td>1979.29</td>\n",
              "      <td>4.16</td>\n",
              "      <td>3.16</td>\n",
              "      <td>807494.56</td>\n",
              "      <td>12432.15</td>\n",
              "      <td>72.34</td>\n",
              "    </tr>\n",
              "    <tr>\n",
              "      <th>std</th>\n",
              "      <td>25.71</td>\n",
              "      <td>3.44</td>\n",
              "      <td>1.04</td>\n",
              "      <td>674097.97</td>\n",
              "      <td>12106.73</td>\n",
              "      <td>30.52</td>\n",
              "    </tr>\n",
              "    <tr>\n",
              "      <th>min</th>\n",
              "      <td>1901.00</td>\n",
              "      <td>1.00</td>\n",
              "      <td>1.00</td>\n",
              "      <td>10000.00</td>\n",
              "      <td>102.00</td>\n",
              "      <td>1.00</td>\n",
              "    </tr>\n",
              "    <tr>\n",
              "      <th>25%</th>\n",
              "      <td>1960.00</td>\n",
              "      <td>2.00</td>\n",
              "      <td>2.50</td>\n",
              "      <td>415000.00</td>\n",
              "      <td>6563.50</td>\n",
              "      <td>54.00</td>\n",
              "    </tr>\n",
              "    <tr>\n",
              "      <th>50%</th>\n",
              "      <td>1978.00</td>\n",
              "      <td>3.00</td>\n",
              "      <td>3.00</td>\n",
              "      <td>608902.00</td>\n",
              "      <td>8765.00</td>\n",
              "      <td>70.00</td>\n",
              "    </tr>\n",
              "    <tr>\n",
              "      <th>75%</th>\n",
              "      <td>2002.00</td>\n",
              "      <td>6.00</td>\n",
              "      <td>4.00</td>\n",
              "      <td>1068198.00</td>\n",
              "      <td>15985.00</td>\n",
              "      <td>94.00</td>\n",
              "    </tr>\n",
              "    <tr>\n",
              "      <th>max</th>\n",
              "      <td>2022.00</td>\n",
              "      <td>29.00</td>\n",
              "      <td>8.00</td>\n",
              "      <td>12650602.00</td>\n",
              "      <td>148830.00</td>\n",
              "      <td>238.00</td>\n",
              "    </tr>\n",
              "  </tbody>\n",
              "</table>\n",
              "</div>\n",
              "      <button class=\"colab-df-convert\" onclick=\"convertToInteractive('df-50f914c9-595a-4577-9929-adb836142f9f')\"\n",
              "              title=\"Convert this dataframe to an interactive table.\"\n",
              "              style=\"display:none;\">\n",
              "        \n",
              "  <svg xmlns=\"http://www.w3.org/2000/svg\" height=\"24px\"viewBox=\"0 0 24 24\"\n",
              "       width=\"24px\">\n",
              "    <path d=\"M0 0h24v24H0V0z\" fill=\"none\"/>\n",
              "    <path d=\"M18.56 5.44l.94 2.06.94-2.06 2.06-.94-2.06-.94-.94-2.06-.94 2.06-2.06.94zm-11 1L8.5 8.5l.94-2.06 2.06-.94-2.06-.94L8.5 2.5l-.94 2.06-2.06.94zm10 10l.94 2.06.94-2.06 2.06-.94-2.06-.94-.94-2.06-.94 2.06-2.06.94z\"/><path d=\"M17.41 7.96l-1.37-1.37c-.4-.4-.92-.59-1.43-.59-.52 0-1.04.2-1.43.59L10.3 9.45l-7.72 7.72c-.78.78-.78 2.05 0 2.83L4 21.41c.39.39.9.59 1.41.59.51 0 1.02-.2 1.41-.59l7.78-7.78 2.81-2.81c.8-.78.8-2.07 0-2.86zM5.41 20L4 18.59l7.72-7.72 1.47 1.35L5.41 20z\"/>\n",
              "  </svg>\n",
              "      </button>\n",
              "      \n",
              "  <style>\n",
              "    .colab-df-container {\n",
              "      display:flex;\n",
              "      flex-wrap:wrap;\n",
              "      gap: 12px;\n",
              "    }\n",
              "\n",
              "    .colab-df-convert {\n",
              "      background-color: #E8F0FE;\n",
              "      border: none;\n",
              "      border-radius: 50%;\n",
              "      cursor: pointer;\n",
              "      display: none;\n",
              "      fill: #1967D2;\n",
              "      height: 32px;\n",
              "      padding: 0 0 0 0;\n",
              "      width: 32px;\n",
              "    }\n",
              "\n",
              "    .colab-df-convert:hover {\n",
              "      background-color: #E2EBFA;\n",
              "      box-shadow: 0px 1px 2px rgba(60, 64, 67, 0.3), 0px 1px 3px 1px rgba(60, 64, 67, 0.15);\n",
              "      fill: #174EA6;\n",
              "    }\n",
              "\n",
              "    [theme=dark] .colab-df-convert {\n",
              "      background-color: #3B4455;\n",
              "      fill: #D2E3FC;\n",
              "    }\n",
              "\n",
              "    [theme=dark] .colab-df-convert:hover {\n",
              "      background-color: #434B5C;\n",
              "      box-shadow: 0px 1px 3px 1px rgba(0, 0, 0, 0.15);\n",
              "      filter: drop-shadow(0px 1px 2px rgba(0, 0, 0, 0.3));\n",
              "      fill: #FFFFFF;\n",
              "    }\n",
              "  </style>\n",
              "\n",
              "      <script>\n",
              "        const buttonEl =\n",
              "          document.querySelector('#df-50f914c9-595a-4577-9929-adb836142f9f button.colab-df-convert');\n",
              "        buttonEl.style.display =\n",
              "          google.colab.kernel.accessAllowed ? 'block' : 'none';\n",
              "\n",
              "        async function convertToInteractive(key) {\n",
              "          const element = document.querySelector('#df-50f914c9-595a-4577-9929-adb836142f9f');\n",
              "          const dataTable =\n",
              "            await google.colab.kernel.invokeFunction('convertToInteractive',\n",
              "                                                     [key], {});\n",
              "          if (!dataTable) return;\n",
              "\n",
              "          const docLinkHtml = 'Like what you see? Visit the ' +\n",
              "            '<a target=\"_blank\" href=https://colab.research.google.com/notebooks/data_table.ipynb>data table notebook</a>'\n",
              "            + ' to learn more about interactive tables.';\n",
              "          element.innerHTML = '';\n",
              "          dataTable['output_type'] = 'display_data';\n",
              "          await google.colab.output.renderOutput(dataTable, element);\n",
              "          const docLink = document.createElement('div');\n",
              "          docLink.innerHTML = docLinkHtml;\n",
              "          element.appendChild(docLink);\n",
              "        }\n",
              "      </script>\n",
              "    </div>\n",
              "  </div>\n",
              "  "
            ]
          },
          "metadata": {},
          "execution_count": 364
        }
      ],
      "source": [
        "data.describe()"
      ]
    },
    {
      "cell_type": "markdown",
      "metadata": {
        "id": "goTiQnEUgRSY"
      },
      "source": [
        "Exploring missing and unique values:"
      ]
    },
    {
      "cell_type": "code",
      "execution_count": 365,
      "metadata": {
        "colab": {
          "base_uri": "https://localhost:8080/"
        },
        "id": "csgl4NJzgSWd",
        "outputId": "fea4ca30-8501-4c24-a18b-d31020f259da"
      },
      "outputs": [
        {
          "output_type": "stream",
          "name": "stdout",
          "text": [
            "address            0\n",
            "area               0\n",
            "buildYear          0\n",
            "date               0\n",
            "floor            665\n",
            "numOfRooms         0\n",
            "price              0\n",
            "pricePerMeter     60\n",
            "size               0\n",
            "dtype: int64\n"
          ]
        }
      ],
      "source": [
        "print(data.isnull().sum())"
      ]
    },
    {
      "cell_type": "markdown",
      "metadata": {
        "id": "n_8bmfg-gYmN"
      },
      "source": [
        "Since the dataset has a total of 3655 rows, these values are insignificant. "
      ]
    },
    {
      "cell_type": "markdown",
      "metadata": {
        "id": "TekoQzdpFL6O"
      },
      "source": [
        "#Phase 3\n",
        "We will start the data exploration process, which includes plotting the data according to certain parameters. We will pose questions based on the correlations we see. "
      ]
    },
    {
      "cell_type": "markdown",
      "metadata": {
        "id": "wr_iJyDJjYIF"
      },
      "source": [
        "## Date Analysis\n",
        "Let us first look at the data according to days, months and years."
      ]
    },
    {
      "cell_type": "code",
      "execution_count": 366,
      "metadata": {
        "colab": {
          "base_uri": "https://localhost:8080/",
          "height": 585
        },
        "id": "BHnjYJbGj7gD",
        "outputId": "4c05c93b-faa4-4d84-992e-5b37a14a0a8b"
      },
      "outputs": [
        {
          "output_type": "display_data",
          "data": {
            "text/plain": [
              "<Figure size 1152x576 with 3 Axes>"
            ],
            "image/png": "[encoded data removed]"
          },
          "metadata": {
            "needs_background": "light"
          }
        }
      ],
      "source": [
        "# Converting the date dtype from 'object' to 'datetime'\n",
        "data['date'] = pd.to_datetime(data['date'], infer_datetime_format=True)\n",
        "data_years = data['date'].dt.year\n",
        "data_months = data['date'].dt.month\n",
        "data_days = data['date'].dt.dayofweek\n",
        "days_of_week = ['Mon', 'Tue', 'Wed', 'Thu', 'Fri', 'Sat', 'Sun']\n",
        "\n",
        "# Plotting the graphs\n",
        "fig, axs = plt.subplots(ncols=1,nrows=3, figsize=(16,8))\n",
        "ax0 = sns.countplot(x = data_years, ax=axs[0], color='lightsteelblue').set_xlabel('Year')\n",
        "ax1 = sns.countplot(x =data_months, ax=axs[1], color='lightsteelblue').set_xlabel('Month')\n",
        "ax2 = sns.countplot(x = data_days, ax=axs[2], color='lightsteelblue').set(xlabel='Day Of The Week', xticklabels=days_of_week)\n",
        "plt.tight_layout()"
      ]
    },
    {
      "cell_type": "markdown",
      "metadata": {
        "id": "8sIcQC6tMPEs"
      },
      "source": [
        "*   Years - we can see that in the last five years, there are under 50 deals per year. This information is strange because we know that in the past five years the real-estate market has grown drastically. This suggests that the data retrieved from the website is not up-to-date. That's what happens in real life data analysis 😕 . <br>\n",
        "Also we cannot see a specific pattern before 2015, so we can't extract relevant \n",
        "conclusions from this plot\n",
        "<br><br>\n",
        "*   Months - we can clearly notice that July is the most popular in terms of number of real-estate deals. This is the case as it is the end of the school year and families have more time to invest in moving house.\n",
        "<br><br>\n",
        "*   Days - the weekend (Friday and Saturday) is the least popular time to close a deal, maybe due to the lack of work professionals (banks, lawyers etc.)."
      ]
    },
    {
      "cell_type": "markdown",
      "metadata": {
        "id": "RkSFH-fVFuPQ"
      },
      "source": [
        "### Neighborhood Analysis\n",
        "First, let's see the number of realestate deals in each neighborhood:"
      ]
    },
    {
      "cell_type": "code",
      "execution_count": 367,
      "metadata": {
        "colab": {
          "base_uri": "https://localhost:8080/",
          "height": 374
        },
        "id": "E7gnFhL8GAFM",
        "outputId": "e1c930ba-1fc1-4302-c2d5-5f119a2ca42d"
      },
      "outputs": [
        {
          "output_type": "display_data",
          "data": {
            "text/plain": [
              "<Figure size 576x432 with 1 Axes>"
            ],
            "image/png": "[encoded data removed]"
          },
          "metadata": {
            "needs_background": "light"
          }
        }
      ],
      "source": [
        "fig = sns.countplot(x=data['area'].values , data = data,order = data['area'].value_counts().index,color='lightsteelblue')\n",
        "plt.gcf().set_size_inches(8,6)"
      ]
    },
    {
      "cell_type": "markdown",
      "metadata": {
        "id": "vxQYOmRy0D_K"
      },
      "source": [
        "We can see that the number of real-estates deals is quite similar, so we can conclude that the data analysis process won't be affected by quantative differences. "
      ]
    },
    {
      "cell_type": "markdown",
      "metadata": {
        "id": "kDeO7RRNuzC1"
      },
      "source": [
        "### Price per square meter for each neighborhood over the last 20 years"
      ]
    },
    {
      "cell_type": "code",
      "execution_count": null,
      "metadata": {
        "id": "8E5lejHVFb1E"
      },
      "outputs": [],
      "source": [
        "#because there is not much information from 2016-2022 I decide to not include it in this Analsys\n",
        "data = data.loc[data[\"date\"].dt.year <2015]\n",
        "\n",
        "# group by neighborhood\n",
        "areas = data.groupby(['area'])\n",
        "listOfKeys = list(areas.groups.keys())\n",
        "\n",
        "# plot the graphs\n",
        "fig, axs = plt.subplots(nrows=2,ncols=3,figsize=(16,8))\n",
        "tmp = 0\n",
        "for row in range(2):\n",
        "    for col in range(3):\n",
        "        area = areas.get_group(listOfKeys[tmp])\n",
        "        axs[row,col] = sns.regplot(data = area, y = \"pricePerMeter\", x = area[\"date\"].dt.year ,ax=axs[row,col], order=3,line_kws={\"color\": \"red\"})        \n",
        "        axs[row,col].set_title(listOfKeys[tmp])\n",
        "        tmp+=1\n",
        "\n",
        "plt.tight_layout()"
      ]
    },
    {
      "cell_type": "markdown",
      "metadata": {
        "id": "TgCzVE_T5MG-"
      },
      "source": [
        "*   Neve Barabor and Florentin has the sharpest growth in real-estate prices.\n",
        "\n",
        "*   Hatikva and Neve Hen has the slowest growth rate in comparison to all the other neighborhoods. \n",
        "\n",
        "*   Ezra has the Highest volatility in terms of price growth over the years.\n",
        "\n",
        " Let's check if we can find convincing explanations to these insights.\n"
      ]
    },
    {
      "cell_type": "markdown",
      "metadata": {
        "id": "t80z0ttfupw6"
      },
      "source": [
        "### Distribution of build year according to neighborhood"
      ]
    },
    {
      "cell_type": "code",
      "execution_count": null,
      "metadata": {
        "id": "E0lMflyOuou4"
      },
      "outputs": [],
      "source": [
        "# group by neighborhood\n",
        "areas = data.groupby(['area'])\n",
        "listOfKeys = list(areas.groups.keys())\n",
        "fig, axs = plt.subplots(nrows=2,ncols=3,figsize=(16,8))\n",
        "tmp = 0\n",
        "\n",
        "#plot the graphs\n",
        "for row in range(2):\n",
        "    for col in range(3):\n",
        "        area = areas.get_group(listOfKeys[tmp])\n",
        "        axs[row,col] = sns.histplot( x = area[\"buildYear\"] ,ax=axs[row,col],kde=True,stat=\"density\", linewidth=0)\n",
        "        axs[row,col].set_title(listOfKeys[tmp])\n",
        "        #axs[row,col].yaxis.get_major_formatter().set_scientific(False)\n",
        "        #axs[row,col].yaxis.get_major_formatter().set_useOffset(False)\n",
        "        \n",
        "        tmp+=1\n",
        "        \n",
        "plt.tight_layout()"
      ]
    },
    {
      "cell_type": "markdown",
      "metadata": {
        "id": "KJW30XmR9bl4"
      },
      "source": [
        "\n",
        "Can this plot explain the price growth?\n",
        "\n",
        "*    In the Hatikva graph we notice that most of the buildings were built in 1940-1970. Therefore we can assume that Hatikva is an old and underdeveloped neighborhood, which can explain why the price growth is small as seen in the previous graph.\n",
        "<br><br>\n",
        "*   As we can see, in the last twenty years the number of construction projects in the Florentin has increased significantly. This may be an indicator that this neighborhood is developing and explain the sharp growth in price per meter over the years.\n",
        "<br><br>\n",
        "*   Ezra neighborhood has a trend similar to Florentin - a raise in construction projects in the last ten years affecting the price growth in this neighborhood.\n",
        "\n",
        "\n"
      ]
    },
    {
      "cell_type": "markdown",
      "metadata": {
        "id": "v4S8Hji4lkx4"
      },
      "source": [
        "Real-estate deals in each neighborhood over time"
      ]
    },
    {
      "cell_type": "code",
      "execution_count": null,
      "metadata": {
        "id": "nfJxlJHFllWr"
      },
      "outputs": [],
      "source": [
        "# group by neighborhood\n",
        "areas = data.groupby(['area'])\n",
        "listOfKeys = list(areas.groups.keys())\n",
        "fig, axs = plt.subplots(nrows=2,ncols=3,figsize=(16,8))\n",
        "tmp = 0\n",
        "\n",
        "#plot the graphs\n",
        "for row in range(2):\n",
        "    for col in range(3):\n",
        "        area = areas.get_group(listOfKeys[tmp])\n",
        "        axs[row,col] = sns.histplot(x = area[\"date\"].dt.year,ax=axs[row,col],stat=\"percent\",color='lightsteelblue')\n",
        "        axs[row,col].set_title(listOfKeys[tmp])        \n",
        "        axs[row,col].set(xticks=list(range(1998,2016,2)))\n",
        "\n",
        "        tmp+=1\n",
        "        \n",
        "plt.tight_layout()"
      ]
    },
    {
      "cell_type": "markdown",
      "metadata": {
        "id": "4AE9Aw6dlxel"
      },
      "source": [
        "\n",
        "\n",
        "*   High demands in Florentin over the last 10 years can explain the increase in price, demand which grew in correlation with the increase in new building projects we saw previously in this neighborhood. \n",
        "<br><br>\n",
        "*   The number of real-estate deals in Neve Hen is in constant decline, this can explain the slow growth in price. This is a classic situation of high supply and low demand. \n",
        "<br><br>\n",
        "*   In Ezra neighborhood more than 40% of the deals took place between 2011 and 2015, in correlation to the rise in price growth that we saw before.\n",
        "\n",
        "\n",
        "\n",
        "\n",
        "\n"
      ]
    },
    {
      "cell_type": "markdown",
      "metadata": {
        "id": "BUHR8tuN0i5i"
      },
      "source": [
        "###Correlation heatmap\n",
        "In order to continue the analysis, we will check if there are a strong corellations between various numerical features."
      ]
    },
    {
      "cell_type": "code",
      "execution_count": null,
      "metadata": {
        "id": "2nPBVMmPDD5w"
      },
      "outputs": [],
      "source": [
        "# let's create correlation map to understand if ther is \n",
        "plt.figure(figsize=(16, 6))\n",
        "mask = np.triu(np.ones_like(data.corr(), dtype=np.bool_))\n",
        "heatmap = sns.heatmap(data.corr(),mask=mask, vmin=-1, vmax=1, annot=True, cmap=\"rocket_r\")\n",
        "heatmap.set_title('Correlation Heatmap', fontdict={'fontsize':12}, pad=12);"
      ]
    },
    {
      "cell_type": "markdown",
      "metadata": {
        "id": "g4D5gzl_4mRP"
      },
      "source": [
        "There is a clear corellation between the size of the house and the number of rooms, but this is not an interesting corellation because it's obvious - they are in direct proportion.\n",
        "Let us analyze other relations."
      ]
    },
    {
      "cell_type": "markdown",
      "metadata": {
        "id": "qiEUAm4g5PJR"
      },
      "source": [
        "###Size and number of rooms correlation\n"
      ]
    },
    {
      "cell_type": "markdown",
      "metadata": {
        "id": "0zJrV2KP5ucC"
      },
      "source": [
        "To start the analysis, we need to check which number of rooms most frequent."
      ]
    },
    {
      "cell_type": "code",
      "execution_count": null,
      "metadata": {
        "id": "Plrl0Z2p5af-"
      },
      "outputs": [],
      "source": [
        "fig = sns.countplot(x=data[\"numOfRooms\"] , data = data,color='lightsteelblue')"
      ]
    },
    {
      "cell_type": "markdown",
      "metadata": {
        "id": "Bh6m4tnG665a"
      },
      "source": [
        "There are more than 600 real-estate deals 2-4 rooms, therefore we will check the change over time in those real-estate deals."
      ]
    },
    {
      "cell_type": "code",
      "execution_count": null,
      "metadata": {
        "id": "DvIo2_Ow7U2T"
      },
      "outputs": [],
      "source": [
        "#create dateframes for numOfRooms = 2,3,4\n",
        "data_3_5 = data.loc[(data[\"numOfRooms\"] ==2) | (data[\"numOfRooms\"] ==3) | (data[\"numOfRooms\"] ==4)]\n",
        "\n",
        "#plot graph\n",
        "plt.figure(figsize=(16,8))\n",
        "sns.lineplot(x=\"buildYear\", y=\"size\",hue=\"numOfRooms\", data = data_3_5)"
      ]
    },
    {
      "cell_type": "markdown",
      "metadata": {
        "id": "ySIatnlKHf3h"
      },
      "source": [
        "I tried to find the tendency using lineplot, but I wasn't able to extract a specific conclusion from this plot.\n",
        "<br>\n",
        "Let's approach it from a diffrent way."
      ]
    },
    {
      "cell_type": "code",
      "execution_count": null,
      "metadata": {
        "id": "iusds1T5IGAJ"
      },
      "outputs": [],
      "source": [
        "#create dataframes for 2,3,4 number of rooms\n",
        "data_2 = data.loc[data[\"numOfRooms\"] == 2]\n",
        "data_3 = data.loc[data[\"numOfRooms\"] == 3]\n",
        "data_4 = data.loc[data[\"numOfRooms\"] == 4]\n",
        "\n",
        "#plot graphs\n",
        "fig, axs = plt.subplots(3,figsize=(12,8))\n",
        "ax0 = sns.regplot(data = data_2, y = \"size\", x = data_2[\"buildYear\"] ,ax=axs[0],line_kws={\"color\": \"red\"}).set_title('2 Rooms')\n",
        "ax1 = sns.regplot(data = data_3, y = \"size\", x = data_3[\"buildYear\"] ,ax=axs[1],line_kws={\"color\": \"red\"}).set_title('3 Rooms')\n",
        "ax2 = sns.regplot(data = data_4, y = \"size\", x = data_4[\"buildYear\"] ,ax=axs[2],line_kws={\"color\": \"red\"}).set_title('4 Rooms')\n",
        "\n",
        "plt.tight_layout()"
      ]
    },
    {
      "cell_type": "markdown",
      "metadata": {
        "id": "kcIOKlZ1KrSq"
      },
      "source": [
        "In these plots there is a clear tendency - over the years, houses with 3 or 4 rooms were built as bigger houses, in terms of overall size. A possible explantion for this is the fact that these neighborhoods were considered as poor neighborhoods, therefore the size of the appartments were smaller and cheaper. The increase in size over the years may be due to the overall development of Tel Aviv and the rise of demand for bigger houses."
      ]
    },
    {
      "cell_type": "markdown",
      "metadata": {
        "id": "4xFDExbTfhXa"
      },
      "source": [
        "###Analysis by floor"
      ]
    },
    {
      "cell_type": "code",
      "execution_count": null,
      "metadata": {
        "id": "h-EfIVbGfp0I"
      },
      "outputs": [],
      "source": [
        "df = data.dropna()\n",
        "\n",
        "fig, axs = plt.subplots(nrows = 1 , ncols = 3,figsize=(16,8))\n",
        "axs0 = sns.lineplot(x=\"buildYear\", y=\"floor\",data = df,ax=axs[0])\n",
        "axs1 = sns.countplot(y=\"floor\", data = df,ax=axs[1],color='lightsteelblue')\n",
        "axs2 = sns.barplot(y=\"floor\", x=df[\"date\"].dt.year ,data = df,ax=axs[2],ci=None,color='lightsteelblue').tick_params(axis='x', rotation=90)\n",
        "\n",
        "plt.tight_layout()"
      ]
    },
    {
      "cell_type": "markdown",
      "metadata": {
        "id": "aGJENLr-4t0p"
      },
      "source": [
        "*   Graph 1 - In the past, buildings in Tel-Aviv would not be taller than 4 floors. However, due to the growth of the population and increase in demand to live in the city, many older buildings have now been destroyed and rebuilt with more stories. \n",
        "*   Graph 2 - Following my previous explantation, the rebuilding of building in the city is continuing, however most of the buildings in these neighborhoods are not tall.\n",
        "*   Graph 3 - during 2014-2018 there were numerous deals in higher floors on average, possibly due to new construcion projects sold in said period.\n",
        "\n",
        "\n",
        "\n"
      ]
    },
    {
      "cell_type": "markdown",
      "metadata": {
        "id": "Q6wJj0Pf-iyt"
      },
      "source": [
        "#Phase 4"
      ]
    },
    {
      "cell_type": "markdown",
      "metadata": {
        "id": "tv1Hto28-lMU"
      },
      "source": [
        "##Prediction\n",
        "Objective: predict house size"
      ]
    },
    {
      "cell_type": "code",
      "execution_count": null,
      "metadata": {
        "id": "IVnbMI9nNYPI"
      },
      "outputs": [],
      "source": [
        "data_p = data.copy()"
      ]
    },
    {
      "cell_type": "markdown",
      "source": [
        "Overview corellation between features"
      ],
      "metadata": {
        "id": "hmvtMOTGe8V_"
      }
    },
    {
      "cell_type": "code",
      "source": [
        "sns.pairplot(data_p)\n",
        "plt.tight_layout()"
      ],
      "metadata": {
        "id": "hk26E59Meh2X"
      },
      "execution_count": null,
      "outputs": []
    },
    {
      "cell_type": "markdown",
      "metadata": {
        "id": "QDKkhKCaURch"
      },
      "source": [
        "###Data cleaning"
      ]
    },
    {
      "cell_type": "markdown",
      "source": [
        "Check NaN values in dataframe"
      ],
      "metadata": {
        "id": "03Kunj0Tdv-1"
      }
    },
    {
      "cell_type": "code",
      "execution_count": null,
      "metadata": {
        "id": "7SACOHkfURLV"
      },
      "outputs": [],
      "source": [
        "data_p.isnull().sum()"
      ]
    },
    {
      "cell_type": "markdown",
      "metadata": {
        "id": "uqCy7u7a9_hm"
      },
      "source": [
        "Update pricePerMeter feature in datafarme"
      ]
    },
    {
      "cell_type": "code",
      "execution_count": null,
      "metadata": {
        "id": "bCPRXoVuUjuc"
      },
      "outputs": [],
      "source": [
        "data_p['pricePerMeter'] = data_p['price'] / data_p['size']  "
      ]
    },
    {
      "cell_type": "markdown",
      "metadata": {
        "id": "_0NhNLFl-JuZ"
      },
      "source": [
        "Set to each row without floor value the median floor value"
      ]
    },
    {
      "cell_type": "code",
      "execution_count": null,
      "metadata": {
        "id": "XJQOBNf6VJlg"
      },
      "outputs": [],
      "source": [
        "data_p[['floor']]=data_p[['floor']].fillna(data_p['floor'].mean())"
      ]
    },
    {
      "cell_type": "markdown",
      "source": [
        ""
      ],
      "metadata": {
        "id": "8gxF_cJcfQsX"
      }
    },
    {
      "cell_type": "code",
      "source": [
        "data_p.shape"
      ],
      "metadata": {
        "id": "ttRDxSHrx49j"
      },
      "execution_count": null,
      "outputs": []
    },
    {
      "cell_type": "code",
      "source": [
        "data_p.isnull().sum()"
      ],
      "metadata": {
        "id": "qnGpSruZ5lIP"
      },
      "execution_count": null,
      "outputs": []
    },
    {
      "cell_type": "markdown",
      "metadata": {
        "id": "ilbu-_6mM7tJ"
      },
      "source": [
        "###First let's check our features destrabution:\n",
        "\n",
        "\n",
        "\n"
      ]
    },
    {
      "cell_type": "code",
      "execution_count": null,
      "metadata": {
        "id": "rqgqTcdvHk1n"
      },
      "outputs": [],
      "source": [
        "fig , axes =  plt.subplots(3,2, figsize=(12,12))\n",
        "#plot graphs\n",
        "for i,feature in enumerate(['buildYear','price','floor','numOfRooms','size','pricePerMeter']):\n",
        "  if i > 2:\n",
        "    i -= 3\n",
        "    j = 1\n",
        "  else:\n",
        "    j = 0\n",
        "  sns.histplot(data_p[feature], ax = axes[i][j])\n",
        "\n",
        "plt.tight_layout()"
      ]
    },
    {
      "cell_type": "markdown",
      "metadata": {
        "id": "905TscRnNhkC"
      },
      "source": [
        "we can see that some numerical featuers aren't normally destrabuted' so let's use log function for it:"
      ]
    },
    {
      "cell_type": "code",
      "execution_count": null,
      "metadata": {
        "id": "iw5E0hYVNDkz"
      },
      "outputs": [],
      "source": [
        "data_p['size'] = np.log(data['size'])\n",
        "data_p['price'] = np.log(data['price'])\n",
        "data_p['pricePerMeter'] = np.log(data['pricePerMeter'])\n",
        "data_p['floor'] = np.log(data['floor'])\n",
        "data_p['numOfRooms'] = np.log(data['numOfRooms'])"
      ]
    },
    {
      "cell_type": "markdown",
      "metadata": {
        "id": "ABoknS0m_p_L"
      },
      "source": [
        "Adding year deal from date colunm and houseAge"
      ]
    },
    {
      "cell_type": "code",
      "execution_count": null,
      "metadata": {
        "id": "t6Rq8oNxOJS3"
      },
      "outputs": [],
      "source": [
        "data_p[\"dateYear\"]= data_p[\"date\"].dt.year\n",
        "data_p[\"houseAge\"]= data_p[\"dateYear\"] - data_p[\"buildYear\"]"
      ]
    },
    {
      "cell_type": "markdown",
      "metadata": {
        "id": "WVZTvovHsrJB"
      },
      "source": [
        "Check liner corellation between featuers"
      ]
    },
    {
      "cell_type": "code",
      "execution_count": null,
      "metadata": {
        "id": "rTIImqiVQkMa"
      },
      "outputs": [],
      "source": [
        "fig , axes =  plt.subplots(3,2, figsize=(12,12))\n",
        "#plot graphs\n",
        "for i,feature in enumerate(['houseAge','dateYear','price','floor','numOfRooms','pricePerMeter']):\n",
        "  if i > 2:\n",
        "    i -= 3\n",
        "    j = 1\n",
        "  else:\n",
        "    j = 0\n",
        "  sns.regplot(x = data_p[feature],y = data_p['size'], ax = axes[i][j])\n",
        "\n",
        "plt.tight_layout()"
      ]
    },
    {
      "cell_type": "markdown",
      "metadata": {
        "id": "okwaNWfRojys"
      },
      "source": [
        "clean outliners\n",
        "\n",
        "\n",
        "\n",
        "\n",
        "\n",
        "\n",
        "\n"
      ]
    },
    {
      "cell_type": "code",
      "execution_count": null,
      "metadata": {
        "id": "_PAl-VXlEyeu"
      },
      "outputs": [],
      "source": [
        "outlier_index = data_p[(data_p['size'] < 2.5) | (data_p['size'] > 5.4)].index\n",
        "data_p.drop(outlier_index, axis=0, inplace=True)\n",
        "outlier_index = data_p[(data_p['pricePerMeter'] > 11)].index\n",
        "data_p.drop(outlier_index, axis=0, inplace=True)\n",
        "outlier_index = data_p[(data_p['price'] > 15)].index\n",
        "data_p.drop(outlier_index, axis=0, inplace=True)"
      ]
    },
    {
      "cell_type": "markdown",
      "metadata": {
        "id": "cLszZN9kSvsb"
      },
      "source": [
        "plot graphs after changes"
      ]
    },
    {
      "cell_type": "code",
      "execution_count": null,
      "metadata": {
        "id": "8XVl89xZREbi"
      },
      "outputs": [],
      "source": [
        "fig , axes =  plt.subplots(3,2, figsize=(12,12))\n",
        "data_p = data_p.dropna()\n",
        "for i,feature in enumerate(['houseAge','dateYear','price','floor','numOfRooms','pricePerMeter',]):\n",
        "  if i > 2:\n",
        "    i -= 3\n",
        "    j = 1\n",
        "  else:\n",
        "    j = 0\n",
        "  sns.regplot(x = data_p[feature],y = data_p['size'], ax = axes[i][j])\n",
        "\n",
        "plt.tight_layout()"
      ]
    },
    {
      "cell_type": "code",
      "source": [
        "#feature Engineering\n",
        "data_p[\"floor&Rooms\"] = data_p[\"floor\"] * (data_p[\"numOfRooms\"])"
      ],
      "metadata": {
        "id": "E4LJyPW_gxWo"
      },
      "execution_count": null,
      "outputs": []
    },
    {
      "cell_type": "markdown",
      "source": [
        "It's clear there is no corellation between the size of the house to  year deal."
      ],
      "metadata": {
        "id": "d3vHjt4_fzpn"
      }
    },
    {
      "cell_type": "markdown",
      "source": [
        "corellation between numerical features"
      ],
      "metadata": {
        "id": "lBGfxp2ufx31"
      }
    },
    {
      "cell_type": "code",
      "execution_count": null,
      "metadata": {
        "id": "N2QF7haRtuw4"
      },
      "outputs": [],
      "source": [
        "# get numerical features\n",
        "numerical_features = data_p.select_dtypes(include=[np.number])\n",
        "\n",
        "#corretation between the feature and target\n",
        "corr = numerical_features.corr()\n",
        "print(corr['size'].sort_values(ascending=False)[:], '\\n')"
      ]
    },
    {
      "cell_type": "markdown",
      "source": [
        "### area analysis"
      ],
      "metadata": {
        "id": "P3gqA3qAyGUB"
      }
    },
    {
      "cell_type": "code",
      "execution_count": null,
      "metadata": {
        "id": "RkBUmeyTTKUE"
      },
      "outputs": [],
      "source": [
        "sns.countplot(x=\"area\", data=data_p)"
      ]
    },
    {
      "cell_type": "code",
      "execution_count": null,
      "metadata": {
        "id": "AV1k8YpnTTWm"
      },
      "outputs": [],
      "source": [
        "sns.catplot(x='area', y='size', data=data_p, kind='box', aspect=2)"
      ]
    },
    {
      "cell_type": "code",
      "execution_count": null,
      "metadata": {
        "id": "K8dNkxExTh1N"
      },
      "outputs": [],
      "source": [
        "size_pivot = data_p.pivot_table(index='area',values='size', aggfunc=np.median)\n",
        "size_pivot.plot(kind='bar')\n",
        "plt.xlabel('area')\n",
        "plt.ylabel('Median size')\n",
        "plt.xticks(rotation=45)"
      ]
    },
    {
      "cell_type": "markdown",
      "source": [
        "We can see that Ezra area has the largest houses and Florentin has the smallest, therefore we will encode and add new colunms to the dataframe."
      ],
      "metadata": {
        "id": "H0s_VF8GgMAn"
      }
    },
    {
      "cell_type": "code",
      "source": [
        "def encode(x): return 1 if x == 'Ezra' else 0\n",
        "data_p['enc_Ezra'] = data_p.area.apply(encode)"
      ],
      "metadata": {
        "id": "AcK-dAYR0Wpa"
      },
      "execution_count": null,
      "outputs": []
    },
    {
      "cell_type": "code",
      "execution_count": null,
      "metadata": {
        "id": "GRuYpyDwT2li"
      },
      "outputs": [],
      "source": [
        "size_pivot = data_p.pivot_table(index='enc_Ezra', values='size', aggfunc=np.median)\n",
        "size_pivot.plot(kind='bar')\n",
        "plt.xlabel('Encoded Ezra')\n",
        "plt.ylabel('Median size')\n",
        "plt.xticks(rotation=0)"
      ]
    },
    {
      "cell_type": "code",
      "source": [
        "def encode(x): return 1 if x == 'Florentin' else 0\n",
        "data_p['enc_Florentin'] = data_p.area.apply(encode)"
      ],
      "metadata": {
        "id": "VL2VMfG2V0_E"
      },
      "execution_count": null,
      "outputs": []
    },
    {
      "cell_type": "code",
      "source": [
        "size_pivot = data_p.pivot_table(index='enc_Florentin', values='size', aggfunc=np.median)\n",
        "size_pivot.plot(kind='bar')\n",
        "plt.xlabel('Encoded Florentin')\n",
        "plt.ylabel('Median size')\n",
        "plt.xticks(rotation=0)"
      ],
      "metadata": {
        "id": "qp2QUT9XWA5y"
      },
      "execution_count": null,
      "outputs": []
    },
    {
      "cell_type": "markdown",
      "metadata": {
        "id": "WdlowdQhdSZh"
      },
      "source": [
        "###organize data"
      ]
    },
    {
      "cell_type": "code",
      "execution_count": null,
      "metadata": {
        "id": "wsBaBT1-_APY"
      },
      "outputs": [],
      "source": [
        "#create targe colunm in the the right column (price)\n",
        "data_p[\"target\"] = data_p[\"size\"]\n",
        "data_p = data_p.drop([\"size\"], axis=1)\n",
        "\n",
        "data_p = data_p.reset_index(drop=True)\n",
        "data_p.head(5)\n"
      ]
    },
    {
      "cell_type": "markdown",
      "metadata": {
        "id": "f8o6rAbANb65"
      },
      "source": [
        ""
      ]
    },
    {
      "cell_type": "markdown",
      "metadata": {
        "id": "TZyzFLVoZ6Sk"
      },
      "source": [
        "### Train & Predict"
      ]
    },
    {
      "cell_type": "code",
      "execution_count": null,
      "metadata": {
        "id": "sHdhK28KmhPw"
      },
      "outputs": [],
      "source": [
        "# set X and Y\n",
        "X = data_p[['floor&Rooms','houseAge','numOfRooms','floor','price','enc_Ezra','enc_Florentin']].to_numpy()\n",
        "Y = data_p['target'].to_numpy()\n",
        "\n",
        "#normalize the data\n",
        "X = StandardScaler().fit_transform(X)\n"
      ]
    },
    {
      "cell_type": "code",
      "execution_count": null,
      "metadata": {
        "id": "H_WI4He7PbT0"
      },
      "outputs": [],
      "source": [
        "#create LinearRegression object \n",
        "model = linear_model.LinearRegression()\n",
        "RFmodel = ensemble.RandomForestRegressor(n_estimators = 400, oob_score = True, n_jobs = -1,random_state =50,max_features = \"sqrt\", min_samples_leaf = 2)\n",
        "GBmodel = ensemble.GradientBoostingRegressor(n_estimators = 400, max_depth = 5, min_samples_split = 2,learning_rate = 0.01, loss = 'squared_error')\n",
        "\n",
        "#set train and test groups\n",
        "x_train , x_test , y_train , y_test = train_test_split(X , Y , test_size = 0.3,random_state =42)\n",
        "\n",
        "#train model\n",
        "model.fit(x_train,y_train)\n",
        "RFmodel.fit(x_train,y_train)\n",
        "GBmodel.fit(x_train,y_train)\n",
        "\n",
        "#shape of train and test\n",
        "print(x_train.shape)\n",
        "print(x_test.shape)"
      ]
    },
    {
      "cell_type": "code",
      "execution_count": null,
      "metadata": {
        "id": "gIylHz24t9-U"
      },
      "outputs": [],
      "source": [
        "# get coef and intercept data of the linear equation \n",
        "print(model.coef_, model.intercept_)"
      ]
    },
    {
      "cell_type": "code",
      "execution_count": null,
      "metadata": {
        "id": "n5AkXeP1oFI5"
      },
      "outputs": [],
      "source": [
        "# accuracy of the LinearRegression model\n",
        "print(model.score(x_test,y_test))\n",
        "y_pred = model.predict(x_test)\n",
        "sns.regplot(x = y_pred ,y = y_test)"
      ]
    },
    {
      "cell_type": "code",
      "execution_count": null,
      "metadata": {
        "id": "8MLVVcZoP2cC"
      },
      "outputs": [],
      "source": [
        "# accuracy of the Gradient Boosting Regressorion model\n",
        "print(RFmodel.score(x_test,y_test))\n",
        "y_pred = RFmodel.predict(x_test)\n",
        "sns.regplot(x = y_pred ,y = y_test)"
      ]
    },
    {
      "cell_type": "code",
      "source": [
        "# accuracy of the Gradient Boosting Regressorion model\n",
        "print(GBmodel.score(x_test,y_test))\n",
        "y_pred = GBmodel.predict(x_test)\n",
        "sns.regplot(x = y_pred ,y = y_test)"
      ],
      "metadata": {
        "id": "AaV0kRjCWjkv"
      },
      "execution_count": null,
      "outputs": []
    },
    {
      "cell_type": "markdown",
      "metadata": {
        "id": "qVuQFFk3Qh3a"
      },
      "source": [
        "Cross validation using KFold for Gradient Boosting Regressorion model"
      ]
    },
    {
      "cell_type": "code",
      "execution_count": null,
      "metadata": {
        "id": "_mabL0GRQnuU"
      },
      "outputs": [],
      "source": [
        "kf = KFold(n_splits=2)\n",
        "kf.get_n_splits(X)\n",
        "\n",
        "KFold(n_splits=2, random_state=None, shuffle=False)\n",
        "for train_index, test_index in kf.split(X):\n",
        "  print(\"TRAIN:\", train_index, \"TEST:\", test_index)\n",
        "  x_train, x_test = X[train_index], X[test_index]\n",
        "  y_train, y_test = Y[train_index], Y[test_index]\n",
        "\n",
        "scoring=('r2', 'neg_mean_squared_error')\n",
        "cv_results = cross_validate(GBmodel, X, Y,  cv=kf, scoring=scoring, return_train_score=False)\n",
        "\n",
        "print(cv_results)\n",
        "scores = cross_val_score(GBmodel, X, Y, cv=4)\n",
        "print(np.average(scores))"
      ]
    }
  ],
  "metadata": {
    "colab": {
      "collapsed_sections": [],
      "name": "Copy of DataAnalysis.ipynb",
      "provenance": []
    },
    "kernelspec": {
      "display_name": "Python 3",
      "name": "python3"
    },
    "language_info": {
      "name": "python"
    }
  },
  "nbformat": 4,
  "nbformat_minor": 0
}